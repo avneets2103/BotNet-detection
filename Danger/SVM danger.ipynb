{
 "cells": [
  {
   "cell_type": "code",
   "execution_count": 1,
   "metadata": {
    "_cell_guid": "b1076dfc-b9ad-4769-8c92-a6c4dae69d19",
    "_uuid": "8f2839f25d086af736a60e9eeb907d3b93b6e0e5",
    "execution": {
     "iopub.execute_input": "2023-12-07T16:05:16.514282Z",
     "iopub.status.busy": "2023-12-07T16:05:16.513831Z",
     "iopub.status.idle": "2023-12-07T16:05:18.132807Z",
     "shell.execute_reply": "2023-12-07T16:05:18.131525Z",
     "shell.execute_reply.started": "2023-12-07T16:05:16.514248Z"
    }
   },
   "outputs": [],
   "source": [
    "import pandas as pd\n",
    "import matplotlib.pyplot as plt\n",
    "import seaborn as sns\n",
    "import numpy as np\n",
    "import warnings\n",
    "warnings.filterwarnings('ignore')\n",
    "from sklearn import metrics\n",
    "from sklearn.metrics import confusion_matrix\n",
    "from sklearn import svm"
   ]
  },
  {
   "cell_type": "code",
   "execution_count": 2,
   "metadata": {
    "execution": {
     "iopub.execute_input": "2023-12-07T16:05:18.138364Z",
     "iopub.status.busy": "2023-12-07T16:05:18.137266Z",
     "iopub.status.idle": "2023-12-07T16:05:34.524408Z",
     "shell.execute_reply": "2023-12-07T16:05:34.523413Z",
     "shell.execute_reply.started": "2023-12-07T16:05:18.138315Z"
    }
   },
   "outputs": [],
   "source": [
    "TrainDx = pd.read_csv('../input/prerocessed-danger-nbaiot/TrainDx.csv')\n",
    "TrainDy = pd.read_csv('../input/prerocessed-danger-nbaiot/TrainDy.csv')\n",
    "ValDx = pd.read_csv('../input/prerocessed-danger-nbaiot/ValDx.csv')\n",
    "ValDy = pd.read_csv('../input/prerocessed-danger-nbaiot/ValDy.csv')"
   ]
  },
  {
   "cell_type": "code",
   "execution_count": 3,
   "metadata": {
    "execution": {
     "iopub.execute_input": "2023-12-07T16:05:34.527695Z",
     "iopub.status.busy": "2023-12-07T16:05:34.526345Z",
     "iopub.status.idle": "2023-12-07T16:05:34.533823Z",
     "shell.execute_reply": "2023-12-07T16:05:34.532624Z",
     "shell.execute_reply.started": "2023-12-07T16:05:34.527643Z"
    }
   },
   "outputs": [],
   "source": [
    "clf = svm.SVC(kernel='linear')"
   ]
  },
  {
   "cell_type": "code",
   "execution_count": 4,
   "metadata": {
    "execution": {
     "iopub.execute_input": "2023-12-07T16:05:34.537896Z",
     "iopub.status.busy": "2023-12-07T16:05:34.536221Z",
     "iopub.status.idle": "2023-12-07T16:05:34.666284Z",
     "shell.execute_reply": "2023-12-07T16:05:34.664786Z",
     "shell.execute_reply.started": "2023-12-07T16:05:34.537847Z"
    }
   },
   "outputs": [],
   "source": [
    "TotalTrain = pd.concat([TrainDx, TrainDy], axis=1)"
   ]
  },
  {
   "cell_type": "code",
   "execution_count": 5,
   "metadata": {
    "execution": {
     "iopub.execute_input": "2023-12-07T16:05:34.671556Z",
     "iopub.status.busy": "2023-12-07T16:05:34.670956Z",
     "iopub.status.idle": "2023-12-07T16:05:34.781252Z",
     "shell.execute_reply": "2023-12-07T16:05:34.779547Z",
     "shell.execute_reply.started": "2023-12-07T16:05:34.671503Z"
    }
   },
   "outputs": [],
   "source": [
    "TotalTrain = TotalTrain.sample(100000)"
   ]
  },
  {
   "cell_type": "code",
   "execution_count": 6,
   "metadata": {
    "execution": {
     "iopub.execute_input": "2023-12-07T16:05:34.784373Z",
     "iopub.status.busy": "2023-12-07T16:05:34.783791Z",
     "iopub.status.idle": "2023-12-07T16:05:34.881196Z",
     "shell.execute_reply": "2023-12-07T16:05:34.879785Z",
     "shell.execute_reply.started": "2023-12-07T16:05:34.784322Z"
    }
   },
   "outputs": [
    {
     "data": {
      "text/html": [
       "<div>\n",
       "<style scoped>\n",
       "    .dataframe tbody tr th:only-of-type {\n",
       "        vertical-align: middle;\n",
       "    }\n",
       "\n",
       "    .dataframe tbody tr th {\n",
       "        vertical-align: top;\n",
       "    }\n",
       "\n",
       "    .dataframe thead th {\n",
       "        text-align: right;\n",
       "    }\n",
       "</style>\n",
       "<table border=\"1\" class=\"dataframe\">\n",
       "  <thead>\n",
       "    <tr style=\"text-align: right;\">\n",
       "      <th></th>\n",
       "      <th>0</th>\n",
       "      <th>1</th>\n",
       "      <th>2</th>\n",
       "      <th>3</th>\n",
       "      <th>4</th>\n",
       "      <th>5</th>\n",
       "      <th>6</th>\n",
       "      <th>7</th>\n",
       "      <th>8</th>\n",
       "      <th>9</th>\n",
       "      <th>...</th>\n",
       "      <th>22</th>\n",
       "      <th>23</th>\n",
       "      <th>24</th>\n",
       "      <th>25</th>\n",
       "      <th>26</th>\n",
       "      <th>27</th>\n",
       "      <th>28</th>\n",
       "      <th>29</th>\n",
       "      <th>30</th>\n",
       "      <th>31</th>\n",
       "    </tr>\n",
       "  </thead>\n",
       "  <tbody>\n",
       "    <tr>\n",
       "      <th>446144</th>\n",
       "      <td>-0.702034</td>\n",
       "      <td>-0.049826</td>\n",
       "      <td>-0.587524</td>\n",
       "      <td>0.115806</td>\n",
       "      <td>-0.283101</td>\n",
       "      <td>-0.022445</td>\n",
       "      <td>-0.185597</td>\n",
       "      <td>0.039893</td>\n",
       "      <td>-0.499479</td>\n",
       "      <td>-0.674417</td>\n",
       "      <td>...</td>\n",
       "      <td>-0.662851</td>\n",
       "      <td>0.156001</td>\n",
       "      <td>-0.459430</td>\n",
       "      <td>-0.524823</td>\n",
       "      <td>-0.508298</td>\n",
       "      <td>-1.212242</td>\n",
       "      <td>0.125736</td>\n",
       "      <td>0.551833</td>\n",
       "      <td>0.339220</td>\n",
       "      <td>0.034290</td>\n",
       "    </tr>\n",
       "    <tr>\n",
       "      <th>469520</th>\n",
       "      <td>-0.707739</td>\n",
       "      <td>-0.044732</td>\n",
       "      <td>-0.561024</td>\n",
       "      <td>0.018568</td>\n",
       "      <td>0.329441</td>\n",
       "      <td>-0.059359</td>\n",
       "      <td>0.330037</td>\n",
       "      <td>-0.358023</td>\n",
       "      <td>2.182543</td>\n",
       "      <td>0.594636</td>\n",
       "      <td>...</td>\n",
       "      <td>-0.282633</td>\n",
       "      <td>0.745886</td>\n",
       "      <td>-0.515383</td>\n",
       "      <td>-1.260466</td>\n",
       "      <td>-1.324601</td>\n",
       "      <td>-0.787236</td>\n",
       "      <td>-0.186775</td>\n",
       "      <td>-2.017928</td>\n",
       "      <td>-0.846853</td>\n",
       "      <td>0.106053</td>\n",
       "    </tr>\n",
       "    <tr>\n",
       "      <th>52040</th>\n",
       "      <td>-0.786475</td>\n",
       "      <td>0.036581</td>\n",
       "      <td>-0.551714</td>\n",
       "      <td>-0.012287</td>\n",
       "      <td>-0.121795</td>\n",
       "      <td>0.000599</td>\n",
       "      <td>0.165930</td>\n",
       "      <td>-0.215166</td>\n",
       "      <td>0.820706</td>\n",
       "      <td>-0.074492</td>\n",
       "      <td>...</td>\n",
       "      <td>0.000590</td>\n",
       "      <td>0.481314</td>\n",
       "      <td>0.883714</td>\n",
       "      <td>-0.262392</td>\n",
       "      <td>0.200058</td>\n",
       "      <td>0.232467</td>\n",
       "      <td>0.033674</td>\n",
       "      <td>-0.138890</td>\n",
       "      <td>0.522964</td>\n",
       "      <td>-0.108567</td>\n",
       "    </tr>\n",
       "    <tr>\n",
       "      <th>321941</th>\n",
       "      <td>-0.774556</td>\n",
       "      <td>-0.013440</td>\n",
       "      <td>-0.584127</td>\n",
       "      <td>-0.022965</td>\n",
       "      <td>-0.152467</td>\n",
       "      <td>0.010733</td>\n",
       "      <td>0.022644</td>\n",
       "      <td>-0.114136</td>\n",
       "      <td>0.308246</td>\n",
       "      <td>-0.189258</td>\n",
       "      <td>...</td>\n",
       "      <td>0.046248</td>\n",
       "      <td>0.022311</td>\n",
       "      <td>0.275616</td>\n",
       "      <td>0.280221</td>\n",
       "      <td>-0.035264</td>\n",
       "      <td>-0.391848</td>\n",
       "      <td>0.097447</td>\n",
       "      <td>0.305801</td>\n",
       "      <td>0.316093</td>\n",
       "      <td>0.046003</td>\n",
       "    </tr>\n",
       "    <tr>\n",
       "      <th>472393</th>\n",
       "      <td>2.051015</td>\n",
       "      <td>-0.499471</td>\n",
       "      <td>0.008188</td>\n",
       "      <td>-0.433487</td>\n",
       "      <td>-0.176277</td>\n",
       "      <td>-0.948371</td>\n",
       "      <td>-0.142698</td>\n",
       "      <td>0.068438</td>\n",
       "      <td>0.188855</td>\n",
       "      <td>0.332530</td>\n",
       "      <td>...</td>\n",
       "      <td>0.579085</td>\n",
       "      <td>-0.352565</td>\n",
       "      <td>0.764722</td>\n",
       "      <td>-1.138060</td>\n",
       "      <td>-0.038621</td>\n",
       "      <td>-0.126256</td>\n",
       "      <td>-0.120569</td>\n",
       "      <td>-0.577367</td>\n",
       "      <td>0.804943</td>\n",
       "      <td>0.273662</td>\n",
       "    </tr>\n",
       "    <tr>\n",
       "      <th>...</th>\n",
       "      <td>...</td>\n",
       "      <td>...</td>\n",
       "      <td>...</td>\n",
       "      <td>...</td>\n",
       "      <td>...</td>\n",
       "      <td>...</td>\n",
       "      <td>...</td>\n",
       "      <td>...</td>\n",
       "      <td>...</td>\n",
       "      <td>...</td>\n",
       "      <td>...</td>\n",
       "      <td>...</td>\n",
       "      <td>...</td>\n",
       "      <td>...</td>\n",
       "      <td>...</td>\n",
       "      <td>...</td>\n",
       "      <td>...</td>\n",
       "      <td>...</td>\n",
       "      <td>...</td>\n",
       "      <td>...</td>\n",
       "      <td>...</td>\n",
       "    </tr>\n",
       "    <tr>\n",
       "      <th>140482</th>\n",
       "      <td>-0.615451</td>\n",
       "      <td>0.331302</td>\n",
       "      <td>-0.550806</td>\n",
       "      <td>0.254643</td>\n",
       "      <td>-0.219999</td>\n",
       "      <td>-0.157212</td>\n",
       "      <td>0.558856</td>\n",
       "      <td>-0.418832</td>\n",
       "      <td>0.655002</td>\n",
       "      <td>-1.383698</td>\n",
       "      <td>...</td>\n",
       "      <td>-0.309895</td>\n",
       "      <td>1.274941</td>\n",
       "      <td>5.287054</td>\n",
       "      <td>-0.435253</td>\n",
       "      <td>0.067806</td>\n",
       "      <td>-0.858204</td>\n",
       "      <td>-0.025714</td>\n",
       "      <td>-0.488472</td>\n",
       "      <td>-0.043140</td>\n",
       "      <td>-0.986532</td>\n",
       "    </tr>\n",
       "    <tr>\n",
       "      <th>105252</th>\n",
       "      <td>0.381351</td>\n",
       "      <td>-0.512622</td>\n",
       "      <td>2.529254</td>\n",
       "      <td>1.136630</td>\n",
       "      <td>1.065468</td>\n",
       "      <td>-0.073797</td>\n",
       "      <td>-0.001464</td>\n",
       "      <td>-0.023102</td>\n",
       "      <td>0.684937</td>\n",
       "      <td>-0.545006</td>\n",
       "      <td>...</td>\n",
       "      <td>0.199002</td>\n",
       "      <td>-0.256661</td>\n",
       "      <td>0.459740</td>\n",
       "      <td>-1.257973</td>\n",
       "      <td>-0.083861</td>\n",
       "      <td>-0.057072</td>\n",
       "      <td>-0.076443</td>\n",
       "      <td>-0.526473</td>\n",
       "      <td>0.587955</td>\n",
       "      <td>1.489510</td>\n",
       "    </tr>\n",
       "    <tr>\n",
       "      <th>43911</th>\n",
       "      <td>1.892553</td>\n",
       "      <td>-0.362788</td>\n",
       "      <td>-0.068520</td>\n",
       "      <td>-0.097335</td>\n",
       "      <td>-0.014477</td>\n",
       "      <td>-0.799503</td>\n",
       "      <td>-0.008418</td>\n",
       "      <td>0.008470</td>\n",
       "      <td>0.384740</td>\n",
       "      <td>0.362362</td>\n",
       "      <td>...</td>\n",
       "      <td>0.370355</td>\n",
       "      <td>-0.252891</td>\n",
       "      <td>0.691599</td>\n",
       "      <td>-0.234604</td>\n",
       "      <td>-1.214453</td>\n",
       "      <td>0.496962</td>\n",
       "      <td>0.040780</td>\n",
       "      <td>0.057880</td>\n",
       "      <td>0.523651</td>\n",
       "      <td>-1.045032</td>\n",
       "    </tr>\n",
       "    <tr>\n",
       "      <th>305563</th>\n",
       "      <td>-0.757696</td>\n",
       "      <td>0.050846</td>\n",
       "      <td>-0.663661</td>\n",
       "      <td>-0.066022</td>\n",
       "      <td>-0.113617</td>\n",
       "      <td>-0.011972</td>\n",
       "      <td>0.132743</td>\n",
       "      <td>-0.191660</td>\n",
       "      <td>0.647007</td>\n",
       "      <td>0.560479</td>\n",
       "      <td>...</td>\n",
       "      <td>-0.999900</td>\n",
       "      <td>0.113604</td>\n",
       "      <td>-0.488306</td>\n",
       "      <td>0.392977</td>\n",
       "      <td>-0.843980</td>\n",
       "      <td>0.092421</td>\n",
       "      <td>-0.020458</td>\n",
       "      <td>-2.710225</td>\n",
       "      <td>-0.804597</td>\n",
       "      <td>0.235107</td>\n",
       "    </tr>\n",
       "    <tr>\n",
       "      <th>435138</th>\n",
       "      <td>-0.717055</td>\n",
       "      <td>-0.035142</td>\n",
       "      <td>-0.622523</td>\n",
       "      <td>0.035440</td>\n",
       "      <td>-0.146334</td>\n",
       "      <td>-0.017031</td>\n",
       "      <td>-0.071671</td>\n",
       "      <td>-0.056928</td>\n",
       "      <td>0.167674</td>\n",
       "      <td>-0.143226</td>\n",
       "      <td>...</td>\n",
       "      <td>-0.253565</td>\n",
       "      <td>0.192227</td>\n",
       "      <td>-0.039526</td>\n",
       "      <td>0.072373</td>\n",
       "      <td>-0.247195</td>\n",
       "      <td>-0.585205</td>\n",
       "      <td>0.091603</td>\n",
       "      <td>0.170019</td>\n",
       "      <td>0.143215</td>\n",
       "      <td>0.056083</td>\n",
       "    </tr>\n",
       "  </tbody>\n",
       "</table>\n",
       "<p>100000 rows × 32 columns</p>\n",
       "</div>"
      ],
      "text/plain": [
       "               0         1         2         3         4         5         6  \\\n",
       "446144 -0.702034 -0.049826 -0.587524  0.115806 -0.283101 -0.022445 -0.185597   \n",
       "469520 -0.707739 -0.044732 -0.561024  0.018568  0.329441 -0.059359  0.330037   \n",
       "52040  -0.786475  0.036581 -0.551714 -0.012287 -0.121795  0.000599  0.165930   \n",
       "321941 -0.774556 -0.013440 -0.584127 -0.022965 -0.152467  0.010733  0.022644   \n",
       "472393  2.051015 -0.499471  0.008188 -0.433487 -0.176277 -0.948371 -0.142698   \n",
       "...          ...       ...       ...       ...       ...       ...       ...   \n",
       "140482 -0.615451  0.331302 -0.550806  0.254643 -0.219999 -0.157212  0.558856   \n",
       "105252  0.381351 -0.512622  2.529254  1.136630  1.065468 -0.073797 -0.001464   \n",
       "43911   1.892553 -0.362788 -0.068520 -0.097335 -0.014477 -0.799503 -0.008418   \n",
       "305563 -0.757696  0.050846 -0.663661 -0.066022 -0.113617 -0.011972  0.132743   \n",
       "435138 -0.717055 -0.035142 -0.622523  0.035440 -0.146334 -0.017031 -0.071671   \n",
       "\n",
       "               7         8         9  ...        22        23        24  \\\n",
       "446144  0.039893 -0.499479 -0.674417  ... -0.662851  0.156001 -0.459430   \n",
       "469520 -0.358023  2.182543  0.594636  ... -0.282633  0.745886 -0.515383   \n",
       "52040  -0.215166  0.820706 -0.074492  ...  0.000590  0.481314  0.883714   \n",
       "321941 -0.114136  0.308246 -0.189258  ...  0.046248  0.022311  0.275616   \n",
       "472393  0.068438  0.188855  0.332530  ...  0.579085 -0.352565  0.764722   \n",
       "...          ...       ...       ...  ...       ...       ...       ...   \n",
       "140482 -0.418832  0.655002 -1.383698  ... -0.309895  1.274941  5.287054   \n",
       "105252 -0.023102  0.684937 -0.545006  ...  0.199002 -0.256661  0.459740   \n",
       "43911   0.008470  0.384740  0.362362  ...  0.370355 -0.252891  0.691599   \n",
       "305563 -0.191660  0.647007  0.560479  ... -0.999900  0.113604 -0.488306   \n",
       "435138 -0.056928  0.167674 -0.143226  ... -0.253565  0.192227 -0.039526   \n",
       "\n",
       "              25        26        27        28        29        30        31  \n",
       "446144 -0.524823 -0.508298 -1.212242  0.125736  0.551833  0.339220  0.034290  \n",
       "469520 -1.260466 -1.324601 -0.787236 -0.186775 -2.017928 -0.846853  0.106053  \n",
       "52040  -0.262392  0.200058  0.232467  0.033674 -0.138890  0.522964 -0.108567  \n",
       "321941  0.280221 -0.035264 -0.391848  0.097447  0.305801  0.316093  0.046003  \n",
       "472393 -1.138060 -0.038621 -0.126256 -0.120569 -0.577367  0.804943  0.273662  \n",
       "...          ...       ...       ...       ...       ...       ...       ...  \n",
       "140482 -0.435253  0.067806 -0.858204 -0.025714 -0.488472 -0.043140 -0.986532  \n",
       "105252 -1.257973 -0.083861 -0.057072 -0.076443 -0.526473  0.587955  1.489510  \n",
       "43911  -0.234604 -1.214453  0.496962  0.040780  0.057880  0.523651 -1.045032  \n",
       "305563  0.392977 -0.843980  0.092421 -0.020458 -2.710225 -0.804597  0.235107  \n",
       "435138  0.072373 -0.247195 -0.585205  0.091603  0.170019  0.143215  0.056083  \n",
       "\n",
       "[100000 rows x 32 columns]"
      ]
     },
     "execution_count": 6,
     "metadata": {},
     "output_type": "execute_result"
    }
   ],
   "source": [
    "miniTrainX = TotalTrain.drop('danger', axis=1)\n",
    "miniTrainX"
   ]
  },
  {
   "cell_type": "code",
   "execution_count": 7,
   "metadata": {
    "execution": {
     "iopub.execute_input": "2023-12-07T16:05:34.883493Z",
     "iopub.status.busy": "2023-12-07T16:05:34.883086Z",
     "iopub.status.idle": "2023-12-07T16:05:34.894151Z",
     "shell.execute_reply": "2023-12-07T16:05:34.892402Z",
     "shell.execute_reply.started": "2023-12-07T16:05:34.883441Z"
    }
   },
   "outputs": [
    {
     "data": {
      "text/plain": [
       "446144    0\n",
       "469520    0\n",
       "52040     0\n",
       "321941    0\n",
       "472393    1\n",
       "         ..\n",
       "140482    0\n",
       "105252    1\n",
       "43911     1\n",
       "305563    0\n",
       "435138    0\n",
       "Name: danger, Length: 100000, dtype: int64"
      ]
     },
     "execution_count": 7,
     "metadata": {},
     "output_type": "execute_result"
    }
   ],
   "source": [
    "miniTrainY = TotalTrain.danger\n",
    "miniTrainY"
   ]
  },
  {
   "cell_type": "code",
   "execution_count": 8,
   "metadata": {
    "execution": {
     "iopub.execute_input": "2023-12-07T16:05:34.896376Z",
     "iopub.status.busy": "2023-12-07T16:05:34.895717Z",
     "iopub.status.idle": "2023-12-07T16:05:43.453244Z",
     "shell.execute_reply": "2023-12-07T16:05:43.452208Z",
     "shell.execute_reply.started": "2023-12-07T16:05:34.896339Z"
    }
   },
   "outputs": [
    {
     "data": {
      "text/html": [
       "<style>#sk-container-id-1 {color: black;background-color: white;}#sk-container-id-1 pre{padding: 0;}#sk-container-id-1 div.sk-toggleable {background-color: white;}#sk-container-id-1 label.sk-toggleable__label {cursor: pointer;display: block;width: 100%;margin-bottom: 0;padding: 0.3em;box-sizing: border-box;text-align: center;}#sk-container-id-1 label.sk-toggleable__label-arrow:before {content: \"▸\";float: left;margin-right: 0.25em;color: #696969;}#sk-container-id-1 label.sk-toggleable__label-arrow:hover:before {color: black;}#sk-container-id-1 div.sk-estimator:hover label.sk-toggleable__label-arrow:before {color: black;}#sk-container-id-1 div.sk-toggleable__content {max-height: 0;max-width: 0;overflow: hidden;text-align: left;background-color: #f0f8ff;}#sk-container-id-1 div.sk-toggleable__content pre {margin: 0.2em;color: black;border-radius: 0.25em;background-color: #f0f8ff;}#sk-container-id-1 input.sk-toggleable__control:checked~div.sk-toggleable__content {max-height: 200px;max-width: 100%;overflow: auto;}#sk-container-id-1 input.sk-toggleable__control:checked~label.sk-toggleable__label-arrow:before {content: \"▾\";}#sk-container-id-1 div.sk-estimator input.sk-toggleable__control:checked~label.sk-toggleable__label {background-color: #d4ebff;}#sk-container-id-1 div.sk-label input.sk-toggleable__control:checked~label.sk-toggleable__label {background-color: #d4ebff;}#sk-container-id-1 input.sk-hidden--visually {border: 0;clip: rect(1px 1px 1px 1px);clip: rect(1px, 1px, 1px, 1px);height: 1px;margin: -1px;overflow: hidden;padding: 0;position: absolute;width: 1px;}#sk-container-id-1 div.sk-estimator {font-family: monospace;background-color: #f0f8ff;border: 1px dotted black;border-radius: 0.25em;box-sizing: border-box;margin-bottom: 0.5em;}#sk-container-id-1 div.sk-estimator:hover {background-color: #d4ebff;}#sk-container-id-1 div.sk-parallel-item::after {content: \"\";width: 100%;border-bottom: 1px solid gray;flex-grow: 1;}#sk-container-id-1 div.sk-label:hover label.sk-toggleable__label {background-color: #d4ebff;}#sk-container-id-1 div.sk-serial::before {content: \"\";position: absolute;border-left: 1px solid gray;box-sizing: border-box;top: 0;bottom: 0;left: 50%;z-index: 0;}#sk-container-id-1 div.sk-serial {display: flex;flex-direction: column;align-items: center;background-color: white;padding-right: 0.2em;padding-left: 0.2em;position: relative;}#sk-container-id-1 div.sk-item {position: relative;z-index: 1;}#sk-container-id-1 div.sk-parallel {display: flex;align-items: stretch;justify-content: center;background-color: white;position: relative;}#sk-container-id-1 div.sk-item::before, #sk-container-id-1 div.sk-parallel-item::before {content: \"\";position: absolute;border-left: 1px solid gray;box-sizing: border-box;top: 0;bottom: 0;left: 50%;z-index: -1;}#sk-container-id-1 div.sk-parallel-item {display: flex;flex-direction: column;z-index: 1;position: relative;background-color: white;}#sk-container-id-1 div.sk-parallel-item:first-child::after {align-self: flex-end;width: 50%;}#sk-container-id-1 div.sk-parallel-item:last-child::after {align-self: flex-start;width: 50%;}#sk-container-id-1 div.sk-parallel-item:only-child::after {width: 0;}#sk-container-id-1 div.sk-dashed-wrapped {border: 1px dashed gray;margin: 0 0.4em 0.5em 0.4em;box-sizing: border-box;padding-bottom: 0.4em;background-color: white;}#sk-container-id-1 div.sk-label label {font-family: monospace;font-weight: bold;display: inline-block;line-height: 1.2em;}#sk-container-id-1 div.sk-label-container {text-align: center;}#sk-container-id-1 div.sk-container {/* jupyter's `normalize.less` sets `[hidden] { display: none; }` but bootstrap.min.css set `[hidden] { display: none !important; }` so we also need the `!important` here to be able to override the default hidden behavior on the sphinx rendered scikit-learn.org. See: https://github.com/scikit-learn/scikit-learn/issues/21755 */display: inline-block !important;position: relative;}#sk-container-id-1 div.sk-text-repr-fallback {display: none;}</style><div id=\"sk-container-id-1\" class=\"sk-top-container\"><div class=\"sk-text-repr-fallback\"><pre>SVC(kernel=&#x27;linear&#x27;)</pre><b>In a Jupyter environment, please rerun this cell to show the HTML representation or trust the notebook. <br />On GitHub, the HTML representation is unable to render, please try loading this page with nbviewer.org.</b></div><div class=\"sk-container\" hidden><div class=\"sk-item\"><div class=\"sk-estimator sk-toggleable\"><input class=\"sk-toggleable__control sk-hidden--visually\" id=\"sk-estimator-id-1\" type=\"checkbox\" checked><label for=\"sk-estimator-id-1\" class=\"sk-toggleable__label sk-toggleable__label-arrow\">SVC</label><div class=\"sk-toggleable__content\"><pre>SVC(kernel=&#x27;linear&#x27;)</pre></div></div></div></div></div>"
      ],
      "text/plain": [
       "SVC(kernel='linear')"
      ]
     },
     "execution_count": 8,
     "metadata": {},
     "output_type": "execute_result"
    }
   ],
   "source": [
    "clf.fit(miniTrainX, miniTrainY)"
   ]
  },
  {
   "cell_type": "markdown",
   "metadata": {},
   "source": [
    "## Accuracies"
   ]
  },
  {
   "cell_type": "code",
   "execution_count": 9,
   "metadata": {
    "execution": {
     "iopub.execute_input": "2023-12-07T16:05:43.456146Z",
     "iopub.status.busy": "2023-12-07T16:05:43.454726Z",
     "iopub.status.idle": "2023-12-07T16:05:43.462221Z",
     "shell.execute_reply": "2023-12-07T16:05:43.461170Z",
     "shell.execute_reply.started": "2023-12-07T16:05:43.456097Z"
    }
   },
   "outputs": [],
   "source": [
    "def accFinder(X, y):\n",
    "    return metrics.accuracy_score(clf.predict(X), y)"
   ]
  },
  {
   "cell_type": "code",
   "execution_count": 10,
   "metadata": {
    "execution": {
     "iopub.execute_input": "2023-12-07T16:05:43.464521Z",
     "iopub.status.busy": "2023-12-07T16:05:43.463506Z",
     "iopub.status.idle": "2023-12-07T16:05:43.478216Z",
     "shell.execute_reply": "2023-12-07T16:05:43.477178Z",
     "shell.execute_reply.started": "2023-12-07T16:05:43.464408Z"
    }
   },
   "outputs": [],
   "source": [
    "acc_card = []"
   ]
  },
  {
   "cell_type": "code",
   "execution_count": 11,
   "metadata": {
    "execution": {
     "iopub.execute_input": "2023-12-07T16:05:43.480846Z",
     "iopub.status.busy": "2023-12-07T16:05:43.479752Z",
     "iopub.status.idle": "2023-12-07T16:05:46.275572Z",
     "shell.execute_reply": "2023-12-07T16:05:46.274219Z",
     "shell.execute_reply.started": "2023-12-07T16:05:43.480812Z"
    }
   },
   "outputs": [],
   "source": [
    "acc_card.append(accFinder(TrainDx, TrainDy))"
   ]
  },
  {
   "cell_type": "code",
   "execution_count": 12,
   "metadata": {
    "execution": {
     "iopub.execute_input": "2023-12-07T16:05:46.278430Z",
     "iopub.status.busy": "2023-12-07T16:05:46.277855Z",
     "iopub.status.idle": "2023-12-07T16:05:47.482769Z",
     "shell.execute_reply": "2023-12-07T16:05:47.481104Z",
     "shell.execute_reply.started": "2023-12-07T16:05:46.278385Z"
    }
   },
   "outputs": [],
   "source": [
    "acc_card.append(accFinder(ValDx, ValDy))"
   ]
  },
  {
   "cell_type": "code",
   "execution_count": 13,
   "metadata": {
    "execution": {
     "iopub.execute_input": "2023-12-07T16:05:47.485129Z",
     "iopub.status.busy": "2023-12-07T16:05:47.484705Z",
     "iopub.status.idle": "2023-12-07T16:05:55.896216Z",
     "shell.execute_reply": "2023-12-07T16:05:55.894755Z",
     "shell.execute_reply.started": "2023-12-07T16:05:47.485096Z"
    }
   },
   "outputs": [],
   "source": [
    "TestDx = pd.read_csv('../input/prerocessed-danger-nbaiot/TestDx.csv')\n",
    "TestDy = pd.read_csv('../input/prerocessed-danger-nbaiot/TestDy.csv')\n",
    "acc_card.append(accFinder(TestDx, TestDy))"
   ]
  },
  {
   "cell_type": "code",
   "execution_count": 14,
   "metadata": {
    "execution": {
     "iopub.execute_input": "2023-12-07T16:05:55.904020Z",
     "iopub.status.busy": "2023-12-07T16:05:55.903434Z",
     "iopub.status.idle": "2023-12-07T16:05:56.220141Z",
     "shell.execute_reply": "2023-12-07T16:05:56.218566Z",
     "shell.execute_reply.started": "2023-12-07T16:05:55.903974Z"
    }
   },
   "outputs": [
    {
     "data": {
      "image/png": "[encoded data removed]",
      "text/plain": [
       "<Figure size 640x480 with 1 Axes>"
      ]
     },
     "metadata": {},
     "output_type": "display_data"
    }
   ],
   "source": [
    "# Create a list of indices for the x-axis\n",
    "indices = range(len(acc_card))\n",
    "# Create the bar graph\n",
    "bars = plt.bar(indices, acc_card)\n",
    "# Optionally, you can set the labels for the x-axis to be something other than the indices\n",
    "labels = ['Train', 'Val', 'Test']\n",
    "plt.xticks(indices, labels)\n",
    "# Labeling the axes\n",
    "plt.xlabel('Datasets')\n",
    "plt.ylabel('Accuracies')\n",
    "# Giving a title to the graph\n",
    "plt.title('Accuracies for SVM')\n",
    "for bar in bars:\n",
    "    yval = bar.get_height()\n",
    "    plt.text(bar.get_x(), yval, '{:.10f}'.format(yval), va='bottom') # va: vertical alignment\n",
    "plt.show()"
   ]
  },
  {
   "cell_type": "markdown",
   "metadata": {},
   "source": [
    "## Confusion Matrix"
   ]
  },
  {
   "cell_type": "code",
   "execution_count": 15,
   "metadata": {
    "execution": {
     "iopub.execute_input": "2023-12-07T16:05:56.223221Z",
     "iopub.status.busy": "2023-12-07T16:05:56.222166Z",
     "iopub.status.idle": "2023-12-07T16:05:56.228866Z",
     "shell.execute_reply": "2023-12-07T16:05:56.227557Z",
     "shell.execute_reply.started": "2023-12-07T16:05:56.223160Z"
    }
   },
   "outputs": [],
   "source": [
    "from sklearn.metrics import confusion_matrix"
   ]
  },
  {
   "cell_type": "code",
   "execution_count": 16,
   "metadata": {
    "execution": {
     "iopub.execute_input": "2023-12-07T16:05:56.230917Z",
     "iopub.status.busy": "2023-12-07T16:05:56.230560Z",
     "iopub.status.idle": "2023-12-07T16:05:57.875420Z",
     "shell.execute_reply": "2023-12-07T16:05:57.873944Z",
     "shell.execute_reply.started": "2023-12-07T16:05:56.230888Z"
    }
   },
   "outputs": [],
   "source": [
    "TestPreds = clf.predict(TestDx)"
   ]
  },
  {
   "cell_type": "code",
   "execution_count": 17,
   "metadata": {
    "execution": {
     "iopub.execute_input": "2023-12-07T16:05:57.877337Z",
     "iopub.status.busy": "2023-12-07T16:05:57.876974Z",
     "iopub.status.idle": "2023-12-07T16:05:57.945155Z",
     "shell.execute_reply": "2023-12-07T16:05:57.944126Z",
     "shell.execute_reply.started": "2023-12-07T16:05:57.877306Z"
    }
   },
   "outputs": [
    {
     "data": {
      "text/html": [
       "<div>\n",
       "<style scoped>\n",
       "    .dataframe tbody tr th:only-of-type {\n",
       "        vertical-align: middle;\n",
       "    }\n",
       "\n",
       "    .dataframe tbody tr th {\n",
       "        vertical-align: top;\n",
       "    }\n",
       "\n",
       "    .dataframe thead th {\n",
       "        text-align: right;\n",
       "    }\n",
       "</style>\n",
       "<table border=\"1\" class=\"dataframe\">\n",
       "  <thead>\n",
       "    <tr style=\"text-align: right;\">\n",
       "      <th></th>\n",
       "      <th>0</th>\n",
       "      <th>1</th>\n",
       "    </tr>\n",
       "  </thead>\n",
       "  <tbody>\n",
       "    <tr>\n",
       "      <th>0</th>\n",
       "      <td>153764</td>\n",
       "      <td>59</td>\n",
       "    </tr>\n",
       "    <tr>\n",
       "      <th>1</th>\n",
       "      <td>145</td>\n",
       "      <td>150082</td>\n",
       "    </tr>\n",
       "  </tbody>\n",
       "</table>\n",
       "</div>"
      ],
      "text/plain": [
       "        0       1\n",
       "0  153764      59\n",
       "1     145  150082"
      ]
     },
     "execution_count": 17,
     "metadata": {},
     "output_type": "execute_result"
    }
   ],
   "source": [
    "cm = pd.DataFrame(confusion_matrix(TestPreds, TestDy, labels=[0,1]))\n",
    "cm"
   ]
  },
  {
   "cell_type": "code",
   "execution_count": 18,
   "metadata": {
    "execution": {
     "iopub.execute_input": "2023-12-07T16:05:57.946726Z",
     "iopub.status.busy": "2023-12-07T16:05:57.946341Z",
     "iopub.status.idle": "2023-12-07T16:05:58.326224Z",
     "shell.execute_reply": "2023-12-07T16:05:58.324763Z",
     "shell.execute_reply.started": "2023-12-07T16:05:57.946692Z"
    }
   },
   "outputs": [
    {
     "data": {
      "image/png": "[encoded data removed]",
      "text/plain": [
       "<Figure size 640x480 with 2 Axes>"
      ]
     },
     "metadata": {},
     "output_type": "display_data"
    }
   ],
   "source": [
    "sns.heatmap(cm, annot=True, cmap='Blues')\n",
    "plt.xlabel('Actual')\n",
    "plt.ylabel('Predicted');"
   ]
  },
  {
   "cell_type": "code",
   "execution_count": 19,
   "metadata": {
    "execution": {
     "iopub.execute_input": "2023-12-07T16:05:58.328492Z",
     "iopub.status.busy": "2023-12-07T16:05:58.328062Z",
     "iopub.status.idle": "2023-12-07T16:05:58.344734Z",
     "shell.execute_reply": "2023-12-07T16:05:58.343545Z",
     "shell.execute_reply.started": "2023-12-07T16:05:58.328443Z"
    }
   },
   "outputs": [],
   "source": [
    "def recall(type, TestPreds, TestDy, labels):\n",
    "    confMat = confusion_matrix(TestPreds, TestDy, labels=labels)\n",
    "    true = confMat[type][type]\n",
    "    total = 0\n",
    "    for i in range(len(labels)):\n",
    "        total += confMat[i][type]\n",
    "    return true/total\n",
    "\n",
    "def precision(type, TestPreds, TestDy, labels):\n",
    "    confMat = confusion_matrix(TestPreds, TestDy, labels=labels)\n",
    "    true = confMat[type][type]\n",
    "    total = 0\n",
    "    for i in range(len(labels)):\n",
    "        total += confMat[type][i]\n",
    "    return true/total\n",
    "\n",
    "def specificity(type, TestPreds, TestDy, labels):\n",
    "    confMat = confusion_matrix(TestPreds, TestDy, labels=labels)\n",
    "    true = 0\n",
    "    for i in range(len(labels)):\n",
    "        if(i==type):\n",
    "            continue;\n",
    "        true += confMat[i][i]\n",
    "    total = 0\n",
    "    for j in range(len(labels)):\n",
    "        if(j==type):\n",
    "            continue\n",
    "        for i in range(len(labels)):\n",
    "            total += confMat[i][j]\n",
    "    return true/total"
   ]
  },
  {
   "cell_type": "code",
   "execution_count": 20,
   "metadata": {
    "execution": {
     "iopub.execute_input": "2023-12-07T16:05:58.349247Z",
     "iopub.status.busy": "2023-12-07T16:05:58.348804Z",
     "iopub.status.idle": "2023-12-07T16:05:58.358917Z",
     "shell.execute_reply": "2023-12-07T16:05:58.357735Z",
     "shell.execute_reply.started": "2023-12-07T16:05:58.349214Z"
    }
   },
   "outputs": [],
   "source": [
    "labels=[0,1]"
   ]
  },
  {
   "cell_type": "code",
   "execution_count": 21,
   "metadata": {
    "execution": {
     "iopub.execute_input": "2023-12-07T16:05:58.361139Z",
     "iopub.status.busy": "2023-12-07T16:05:58.360774Z",
     "iopub.status.idle": "2023-12-07T16:05:58.472963Z",
     "shell.execute_reply": "2023-12-07T16:05:58.471579Z",
     "shell.execute_reply.started": "2023-12-07T16:05:58.361106Z"
    }
   },
   "outputs": [
    {
     "name": "stdout",
     "output_type": "stream",
     "text": [
      "recall of class 0: 0.9990578848540371\n",
      "recall of class 1: 0.999607036052777\n"
     ]
    }
   ],
   "source": [
    "for i in range(len(labels)):\n",
    "    print('recall of class '+str(i)+': '+str(recall(i, TestPreds, TestDy, [0,1])))"
   ]
  },
  {
   "cell_type": "code",
   "execution_count": 22,
   "metadata": {
    "execution": {
     "iopub.execute_input": "2023-12-07T16:05:58.475809Z",
     "iopub.status.busy": "2023-12-07T16:05:58.475013Z",
     "iopub.status.idle": "2023-12-07T16:05:58.581593Z",
     "shell.execute_reply": "2023-12-07T16:05:58.580302Z",
     "shell.execute_reply.started": "2023-12-07T16:05:58.475770Z"
    }
   },
   "outputs": [
    {
     "name": "stdout",
     "output_type": "stream",
     "text": [
      "precision of class 0: 0.9996164422745624\n",
      "precision of class 1: 0.9990347940117289\n"
     ]
    }
   ],
   "source": [
    "for i in range(len(labels)):\n",
    "    print('precision of class '+str(i)+': '+str(precision(i, TestPreds, TestDy, [0,1])))"
   ]
  },
  {
   "cell_type": "code",
   "execution_count": 23,
   "metadata": {
    "execution": {
     "iopub.execute_input": "2023-12-07T16:05:58.583515Z",
     "iopub.status.busy": "2023-12-07T16:05:58.583104Z",
     "iopub.status.idle": "2023-12-07T16:05:58.689491Z",
     "shell.execute_reply": "2023-12-07T16:05:58.687850Z",
     "shell.execute_reply.started": "2023-12-07T16:05:58.583466Z"
    }
   },
   "outputs": [
    {
     "name": "stdout",
     "output_type": "stream",
     "text": [
      "specificity of class 0: 0.999607036052777\n",
      "specificity of class 1: 0.9990578848540371\n"
     ]
    }
   ],
   "source": [
    "for i in range(len(labels)):\n",
    "    print('specificity of class '+str(i)+': '+str(specificity(i, TestPreds, TestDy, [0,1])))"
   ]
  },
  {
   "cell_type": "markdown",
   "metadata": {},
   "source": [
    "## Saving the model"
   ]
  },
  {
   "cell_type": "code",
   "execution_count": 24,
   "metadata": {
    "execution": {
     "iopub.execute_input": "2023-12-07T16:05:58.692677Z",
     "iopub.status.busy": "2023-12-07T16:05:58.691835Z",
     "iopub.status.idle": "2023-12-07T16:05:58.701027Z",
     "shell.execute_reply": "2023-12-07T16:05:58.699189Z",
     "shell.execute_reply.started": "2023-12-07T16:05:58.692627Z"
    }
   },
   "outputs": [],
   "source": [
    "import pickle\n",
    "with open('SVMDanger.pkl', 'wb') as file:\n",
    "    pickle.dump(clf, file)"
   ]
  },
  {
   "cell_type": "code",
   "execution_count": 25,
   "metadata": {
    "execution": {
     "iopub.execute_input": "2023-12-07T16:05:58.703152Z",
     "iopub.status.busy": "2023-12-07T16:05:58.702732Z",
     "iopub.status.idle": "2023-12-07T16:05:58.720796Z",
     "shell.execute_reply": "2023-12-07T16:05:58.717795Z",
     "shell.execute_reply.started": "2023-12-07T16:05:58.703119Z"
    }
   },
   "outputs": [
    {
     "data": {
      "text/plain": [
       "['SVMDanger.joblib']"
      ]
     },
     "execution_count": 25,
     "metadata": {},
     "output_type": "execute_result"
    }
   ],
   "source": [
    "import joblib\n",
    "dt = {\n",
    "    'SVMDanger':clf,\n",
    "}\n",
    "joblib.dump(dt, 'SVMDanger.joblib')"
   ]
  },
  {
   "cell_type": "code",
   "execution_count": null,
   "metadata": {},
   "outputs": [],
   "source": []
  }
 ],
 "metadata": {
  "kaggle": {
   "accelerator": "none",
   "dataSources": [
    {
     "datasetId": 4123514,
     "sourceId": 7143842,
     "sourceType": "datasetVersion"
    }
   ],
   "dockerImageVersionId": 30587,
   "isGpuEnabled": false,
   "isInternetEnabled": true,
   "language": "python",
   "sourceType": "notebook"
  },
  "kernelspec": {
   "display_name": "Python 3 (ipykernel)",
   "language": "python",
   "name": "python3"
  },
  "language_info": {
   "codemirror_mode": {
    "name": "ipython",
    "version": 3
   },
   "file_extension": ".py",
   "mimetype": "text/x-python",
   "name": "python",
   "nbconvert_exporter": "python",
   "pygments_lexer": "ipython3",
   "version": "3.8.10"
  }
 },
 "nbformat": 4,
 "nbformat_minor": 4
}
